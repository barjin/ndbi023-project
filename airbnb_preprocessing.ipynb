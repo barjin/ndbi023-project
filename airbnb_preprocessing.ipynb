{
 "cells": [
  {
   "cell_type": "markdown",
   "metadata": {},
   "source": [
    "[< Back to the main notebook](./index.md)\n",
    "\n",
    "# Detour no.3: Getting the Airbnb data\n",
    "\n",
    "> This is a rendered version of a Jupyter notebook. The source notebook can be found [in my GitHub repository](https://github.com/barjin/ndbi023-project), along with the data used in this analysis.\n",
    "\n",
    "In this notebook, we will download the Airbnb data for the city of Prague. We will use the [Airbnb Scraper](https://apify.com/tri_angle/airbnb-scraper) from Apify, which is a web scraping tool that allows us to extract data from the Airbnb website. The data will be saved in a CSV file, which we will then use in the next notebook to analyze the Airbnb listings in Prague.\n",
    "\n",
    "After setting up the scraper, we will run it to collect the data. We download the data in the form of a JSON file.\n",
    "\n",
    "The collected data corresponds to a query between `2024-12-02` and `2024-12-07`."
   ]
  },
  {
   "cell_type": "code",
   "execution_count": 1,
   "metadata": {},
   "outputs": [],
   "source": [
    "import pandas as pd\n",
    "\n",
    "df = pd.read_json('./data/airbnb/dataset_airbnb-scraper_2024-05-09_14-52-46-874.json')"
   ]
  },
  {
   "cell_type": "markdown",
   "metadata": {},
   "source": [
    "After loading the raw JSON data into a pandas DataFrame, we will perform some initial data exploration to understand the structure of the data and identify any potential issues that need to be addressed.\n",
    "\n",
    "We can start by removing the columns with only one unique value, as they don't provide any information and are likely to be just artifacts of the data collection process."
   ]
  },
  {
   "cell_type": "code",
   "execution_count": 4,
   "metadata": {},
   "outputs": [
    {
     "name": "stdout",
     "output_type": "stream",
     "text": [
      "Dropped columns:  ['reviews', 'isAvailable', 'isNewListing', 'tierId', 'hasSpecialOffer', 'hasWeWorkLocation', 'isBusinessTravelReady', 'hometourSections', 'initialDescriptionAuthorType', 'country', 'countryCode', 'hasHostGuidebook', 'hasLocalAttractions', 'neighborhoodCommunityTags', 'paidGrowthRemarketingListingIds', 'hasCommercialHostInfo', 'reviewsOrder', 'nearbyAirportDistanceDescriptions', 'renderTierId', 'showReviewTag', 'pointOfInterests', 'chinaPointsOfInterestMatcha', 'pageViewType', 'previewTags', 'seeAllHometourSections', 'enableHighlightsVoting', 'heroModule', 'availabilityModule', 'sortedReviews', 'documentDisplayPictures', 'sections', 'metadata', 'paidGrowthRemarketingListingIdsStr']\n"
     ]
    }
   ],
   "source": [
    "import numpy as np\n",
    "import json\n",
    "\n",
    "uniques = pd.DataFrame(columns=['column', 'unique_values'])\n",
    "\n",
    "for col in df.columns:\n",
    "    try:\n",
    "        uniques = uniques._append({'column': col, 'unique_values': df[col].map(lambda x: json.dumps(x)).nunique()}, ignore_index=True)\n",
    "    except:\n",
    "        uniques = uniques._append({'column': col, 'unique_values': np.Infinity}, ignore_index=True)\n",
    "\n",
    "uniques.sort_values(by='unique_values', ascending=True)\n",
    "\n",
    "df = df.drop(columns=uniques[uniques['unique_values'] == 1]['column'].values.tolist())\n",
    "\n",
    "print(\"Dropped columns: \", uniques[uniques['unique_values'] == 1]['column'].values.tolist())\n"
   ]
  },
  {
   "cell_type": "markdown",
   "metadata": {},
   "source": [
    "By looking at the names of the dropped columns, we can see that they are usually related to the location of the listing (which has been used as the initial filter - we're only scraping listings in Prague) or some advanced features of the Airbnb platform (like the `isBusinessTravelReady` column), which are simply not that popular in the listings.\n",
    "\n",
    "Analyizng the remaining columns, we can remove some more of them - the scraper has collected a lot of information, but we're not going to use all of it in our analysis. We can drop columns containing personal information about the hosts (even though this would be interesting for a more in-depth analysis, e.g. to see whether some hosts hoard properties), as well as some columns that are not relevant to our analysis (like the `listingUrl` or `listingId`).\n",
    "\n",
    "Finally, we can save the cleaned data to a CSV file, which we will use in the next notebook to analyze the Airbnb listings in Prague."
   ]
  },
  {
   "cell_type": "code",
   "execution_count": 5,
   "metadata": {},
   "outputs": [],
   "source": [
    "# Drop columns containing personal information\n",
    "df = df.drop(columns=['primaryHost', 'additionalHosts', 'id', 'photos'])\n",
    "\n",
    "# Drop columns containing free text fields\n",
    "df = df.drop(columns=['additionalHouseRules', 'hostGuidebook', 'sectionedDescription', 'descriptionLocale', 'localizedCity', 'localizedListingExpectations', 'state'])\n",
    "\n",
    "# Drop columns containing low-relevancy (or deeply structured) data\n",
    "df = df.drop(columns=['localizedCheckOutTime', 'localizedCheckInTimeWindow', 'accessibilityModule', 'categorizedPreviewAmenities', 'hasHouseRules', 'highlights', 'highlightsImpressionId', 'hometourRooms', 'isRepresentativeInventory', 'listingExpectations', 'roomType', 'seeAllAmenitySections', 'listingRooms'])\n",
    "\n",
    "# Drop columns containing some more miscellaneous\n",
    "df = df.drop(columns=['p3ImpressionId', 'p3SummaryAddress', 'rootAmenitySections', 'priceDetails'])"
   ]
  },
  {
   "cell_type": "markdown",
   "metadata": {},
   "source": [
    "This process leaves us with a handful of columns that contain our main features of interest, such as the price, the number of reviews, the number of guests the listing can accommodate, and the number of bedrooms and bathrooms.\n",
    "\n",
    "Many of those features are sadly still buried in some data hierarchies, so we will need to extract them into separate columns. We will also need to convert some of the columns to the appropriate data types, such as integers or floats."
   ]
  },
  {
   "cell_type": "code",
   "execution_count": 6,
   "metadata": {},
   "outputs": [],
   "source": [
    "# parsing out longitude and latitude from the location JSON column\n",
    "\n",
    "df = df.join(pd.DataFrame(df['location'].values.tolist()))\n",
    "df = df.drop(columns='location')\n",
    "\n",
    "masklat = df['lat'].apply(lambda x: isinstance(x, dict))\n",
    "masklng = df['lng'].apply(lambda x: isinstance(x, dict))\n",
    "\n",
    "df.loc[masklat, \"lat\"] = df[masklat][\"lat\"].map(lambda x: float(\".\".join(str(item) for item in x.get(\"c\")[:2])))\n",
    "df.loc[masklng, \"lng\"] = df[masklng][\"lng\"].map(lambda x: float(\".\".join(str(item) for item in x.get(\"c\")[:2])))"
   ]
  },
  {
   "cell_type": "code",
   "execution_count": 7,
   "metadata": {},
   "outputs": [],
   "source": [
    "df['lat'] = df['lat'].astype(float)\n",
    "df['lng'] = df['lng'].astype(float)"
   ]
  },
  {
   "cell_type": "code",
   "execution_count": 36,
   "metadata": {},
   "outputs": [
    {
     "name": "stdout",
     "output_type": "stream",
     "text": [
      "<class 'pandas.core.frame.DataFrame'>\n",
      "RangeIndex: 1545 entries, 0 to 1544\n",
      "Data columns (total 22 columns):\n",
      " #   Column                  Non-Null Count  Dtype  \n",
      "---  ------                  --------------  -----  \n",
      " 0   url                     1545 non-null   object \n",
      " 1   name                    1545 non-null   object \n",
      " 2   stars                   1347 non-null   float64\n",
      " 3   numberOfGuests          1545 non-null   int64  \n",
      " 4   address                 1545 non-null   object \n",
      " 5   pricing                 1545 non-null   object \n",
      " 6   listingAmenities        1545 non-null   object \n",
      " 7   bathroomLabel           1545 non-null   object \n",
      " 8   bedLabel                1545 non-null   object \n",
      " 9   bedroomLabel            1545 non-null   object \n",
      " 10  roomTypeCategory        1545 non-null   object \n",
      " 11  guestControls           1545 non-null   object \n",
      " 12  maxNights               1545 non-null   int64  \n",
      " 13  minNights               1545 non-null   int64  \n",
      " 14  isHostedBySuperhost     1545 non-null   bool   \n",
      " 15  city                    1545 non-null   object \n",
      " 16  reviewDetailsInterface  1545 non-null   object \n",
      " 17  isHotel                 1545 non-null   bool   \n",
      " 18  reviewsModule           1545 non-null   object \n",
      " 19  idStr                   1545 non-null   int64  \n",
      " 20  lat                     1545 non-null   float64\n",
      " 21  lng                     1545 non-null   float64\n",
      "dtypes: bool(2), float64(3), int64(4), object(13)\n",
      "memory usage: 244.5+ KB\n"
     ]
    }
   ],
   "source": [
    "df.info()"
   ]
  },
  {
   "cell_type": "markdown",
   "metadata": {},
   "source": [
    "Some of the columns have been scraped as string labels, but they are numerical in nature - we will need to convert them to the appropriate data type.\n",
    "\n",
    "Example of such columns are `bathroomLabel` and `bedroomLabel`, which contain the number of bathrooms and bedrooms in the listing as formatted text, respectively."
   ]
  },
  {
   "cell_type": "code",
   "execution_count": 9,
   "metadata": {},
   "outputs": [],
   "source": [
    "import re\n",
    "\n",
    "def parseNumFromString(s):\n",
    "    match = re.search(\"(\\d+)\", s)\n",
    "\n",
    "    if match == None:\n",
    "        return np.nan\n",
    "\n",
    "    return match.groups(0)[0]\n",
    "\n",
    "df['bathroomLabel'] = df['bathroomLabel'].map(parseNumFromString).astype(pd.Int64Dtype())\n",
    "df['bedroomLabel'] = df['bedroomLabel'].map(parseNumFromString).astype(pd.Int64Dtype())\n",
    "df['bedLabel'] = df['bedLabel'].map(parseNumFromString).astype(pd.Int64Dtype())\n",
    "\n",
    "df = df.rename(columns={'bathroomLabel': 'bathroom_count', 'bedroomLabel': 'bedroom_count', 'bedLabel': 'bed_count'})"
   ]
  },
  {
   "cell_type": "code",
   "execution_count": 13,
   "metadata": {},
   "outputs": [],
   "source": [
    "# In similar fashion, parse out the price from the pricing JSON column\n",
    "\n",
    "df[\"price_czk\"] = df['pricing'].map(lambda x: x.get('rate').get('amount')).astype(int)\n",
    "df = df.drop(columns='pricing')"
   ]
  },
  {
   "cell_type": "code",
   "execution_count": 14,
   "metadata": {},
   "outputs": [],
   "source": [
    "# Parse out the amenities - this is a bit more complex, as the amenities are stored in a list of dictionaries\n",
    "# This generates a lot of data - this might be useful for a more detailed analysis, of Airbnb listings, \n",
    "# but probably a long shot for the rental price prediction.\n",
    "\n",
    "# def process_amenities(amenities):\n",
    "#     d = {}\n",
    "\n",
    "#     for a in amenities:\n",
    "#         key = '_'.join(a.get('name').lower().split(\" \"))\n",
    "#         d[key] = a.get('isPresent')\n",
    "    \n",
    "#     return d\n",
    "\n",
    "\n",
    "# pd.DataFrame(list(df['listingAmenities'].map(process_amenities))).fillna(False).to_csv('./amenities.csv')\n",
    "# df = df.drop(columns=['listingAmenities'])"
   ]
  },
  {
   "cell_type": "markdown",
   "metadata": {},
   "source": [
    "We can finish the data cleaning process by adding convenience columns, such as the price per night and the price per guest."
   ]
  },
  {
   "cell_type": "code",
   "execution_count": 16,
   "metadata": {},
   "outputs": [],
   "source": [
    "df['price_per_night_czk'] = df['price_czk'] / 5\n",
    "df['price_per_night_per_guest'] = df['price_per_night_czk'] / df['numberOfGuests']"
   ]
  },
  {
   "cell_type": "markdown",
   "metadata": {},
   "source": [
    "Now we can finally save the cleaned data to a CSV file, which we will use in the next notebook to analyze the Airbnb listings in Prague."
   ]
  },
  {
   "cell_type": "code",
   "execution_count": 21,
   "metadata": {},
   "outputs": [],
   "source": [
    "df.to_csv('./data/airbnb/index.csv')"
   ]
  },
  {
   "cell_type": "markdown",
   "metadata": {},
   "source": [
    "## Plotting the data\n",
    "\n",
    "For a better insight into the data, we can try to plot it on a map - this will give us a better understanding of the distribution of the listings in Prague and help us identify any potential patterns or clusters."
   ]
  },
  {
   "cell_type": "code",
   "execution_count": 8,
   "metadata": {},
   "outputs": [],
   "source": [
    "import pandas as pd\n",
    "import matplotlib.pyplot as plt\n",
    "from utils.map_utils import get_map_scale\n",
    "\n",
    "df = pd.read_csv('./data/airbnb/index.csv')\n",
    "\n",
    "plt.ioff()\n",
    "\n",
    "get_map_scale(\n",
    "    df, \n",
    "    color_attribute='price_per_night_per_guest', \n",
    "    scale_label='Price per night per guest (CZK)',\n",
    "    title='Price per night per guest in Airbnb listings in Prague',\n",
    "    lat_attribute='lat', \n",
    "    lon_attribute='lng'\n",
    ").savefig('./img/airbnb/01_airbnb_price_per_night_per_guest.png', bbox_inches='tight')"
   ]
  },
  {
   "cell_type": "markdown",
   "metadata": {},
   "source": [
    "|![Map of Airbnb listings in Prague](./img/airbnb/01_airbnb_price_per_night_per_guest.png)|\n",
    "|:--:|\n",
    "|*Map of Airbnb listings in Prague - price per guest per night*|\n",
    "\n",
    "The map shows the distribution of Airbnb listings in Prague, with the color indicating the price per guest per night. We can see that the listings are concentrated in the city center.\n",
    "\n",
    "The price attribute has a long tail distribution, with most listings being relatively cheap, but some being - at least seemingly - very expensive. We can try to plot the distribution of the prices to get a better understanding of the data.\n",
    "\n",
    "## Smart pricing?"
   ]
  },
  {
   "cell_type": "code",
   "execution_count": 19,
   "metadata": {},
   "outputs": [
    {
     "data": {
      "text/plain": [
       "<Axes: title={'center': 'Price per night per guest in Airbnb listings in Prague'}, ylabel='Frequency'>"
      ]
     },
     "execution_count": 19,
     "metadata": {},
     "output_type": "execute_result"
    },
    {
     "data": {
      "image/png": "[encoded data removed]",
      "text/plain": [
       "<Figure size 640x480 with 1 Axes>"
      ]
     },
     "metadata": {},
     "output_type": "display_data"
    }
   ],
   "source": [
    "plt.ion()\n",
    "\n",
    "df['price_per_night_per_guest'].plot(kind='hist', bins=100, title='Price per night per guest in Airbnb listings in Prague')"
   ]
  },
  {
   "cell_type": "markdown",
   "metadata": {},
   "source": [
    "We can see that the price distribution is indeed heavily skewed by some extremely expensive listings. We can try to look at those listings in more detail to see if they are legitimate or if they are outliers that should be removed from the analysis."
   ]
  },
  {
   "cell_type": "code",
   "execution_count": 29,
   "metadata": {},
   "outputs": [
    {
     "data": {
      "text/plain": [
       "16               https://www.airbnb.com/rooms/53391894\n",
       "66                https://www.airbnb.com/rooms/8253514\n",
       "54               https://www.airbnb.com/rooms/41812654\n",
       "41     https://www.airbnb.com/rooms/646759591590269458\n",
       "46     https://www.airbnb.com/rooms/650042649808202329\n",
       "62               https://www.airbnb.com/rooms/28196448\n",
       "9                 https://www.airbnb.com/rooms/7147096\n",
       "26    https://www.airbnb.com/rooms/1056034361609039461\n",
       "2      https://www.airbnb.com/rooms/585193269877288249\n",
       "38    https://www.airbnb.com/rooms/1112826933498906863\n",
       "Name: url, dtype: object"
      ]
     },
     "execution_count": 29,
     "metadata": {},
     "output_type": "execute_result"
    }
   ],
   "source": [
    "df.sort_values(by='price_per_night_per_guest', ascending=False).head(10)['url']"
   ]
  },
  {
   "cell_type": "markdown",
   "metadata": {},
   "source": [
    "Some of those listings are indeed very expensive - not to point fingers, but they do seem like some borderline money laundering scheme :)\n",
    "\n",
    "The others are quite unassuming - looking at the prices for soon-to-come dates, it seems like they are just regular listings.\n",
    "\n",
    "|![Prices for one of the listings in June 2024](./img/airbnb/02_airbnb_smart_pricing_low.png)|\n",
    "|:--:|\n",
    "|*Setting the dates to June 2024, there is nothing unusual about the prices for this listing*|\n",
    "\n",
    "Switching the dates to the December 2024 (we originally collected the data for), we can see that the prices are indeed much higher than usual - this is likely due to the Christmas season, which is a popular time for tourists to visit Prague. This might be caused by the [smart pricing feature of Airbnb](https://www.airbnb.com/help/article/1168), which can adjust the prices based on demand.\n",
    "\n",
    "|![Prices for one of the listings in December 2024](./img/airbnb/03_airbnb_smart_pricing_high.png)|\n",
    "|:--:|\n",
    "|*Setting the dates to December 2024 for the same listing, the prices are much higher than usual*|"
   ]
  },
  {
   "cell_type": "markdown",
   "metadata": {},
   "source": [
    "Knowing this, we can try to plot the listings on the map again, this time filtering only the listings with a price below a certain threshold."
   ]
  },
  {
   "cell_type": "code",
   "execution_count": 32,
   "metadata": {},
   "outputs": [],
   "source": [
    "plt.ioff()\n",
    "\n",
    "get_map_scale(\n",
    "    df[df['price_per_night_per_guest'] <= 1000],\n",
    "    color_attribute='price_per_night_per_guest', \n",
    "    scale_label='Price per night per guest (CZK)',\n",
    "    title='Price per night per guest in Airbnb listings in Prague (<= 1000 CZK)',\n",
    "    lat_attribute='lat', \n",
    "    lon_attribute='lng'\n",
    ").savefig('./img/airbnb/04_airbnb_price_per_night_per_guest_filter.png', bbox_inches='tight')"
   ]
  },
  {
   "cell_type": "markdown",
   "metadata": {},
   "source": [
    "| ![Map of Airbnb listings in Prague - price per guest per night (filtered)](./img/airbnb/04_airbnb_price_per_night_per_guest_filter.png) |\n",
    "|:--:|\n",
    "|*Map of Airbnb listings in Prague - price per guest per night (filtered)*|"
   ]
  },
  {
   "cell_type": "markdown",
   "metadata": {},
   "source": [
    "This time, we can clearly see the higher prices for properties in the city center, which is the expected behavior.\n",
    "\n",
    "With this conclusion, we can move on to the next step where we join the Airbnb data with the other datasets to create a comprehensive dataset for our analysis.\n",
    "\n",
    "---\n",
    "\n",
    "[< Back to the main notebook](./index.md)"
   ]
  }
 ],
 "metadata": {
  "kernelspec": {
   "display_name": "Python 3 (ipykernel)",
   "language": "python",
   "name": "python3"
  },
  "language_info": {
   "codemirror_mode": {
    "name": "ipython",
    "version": 3
   },
   "file_extension": ".py",
   "mimetype": "text/x-python",
   "name": "python",
   "nbconvert_exporter": "python",
   "pygments_lexer": "ipython3",
   "version": "3.10.12"
  }
 },
 "nbformat": 4,
 "nbformat_minor": 2
}
