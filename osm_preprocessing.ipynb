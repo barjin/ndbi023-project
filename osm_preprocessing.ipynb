{
 "cells": [
  {
   "cell_type": "markdown",
   "metadata": {},
   "source": [
    "[< Back to the main notebook](./index.md)\n",
    "\n",
    "\n",
    "# Detour no.3: Getting the OpenStreetMap data\n",
    "\n",
    "> This is a rendered version of a Jupyter notebook. The source notebook can be found [in my GitHub repository](https://github.com/barjin/ndbi023-project), along with the data used in this analysis.\n",
    "\n",
    "In this notebook, I am downloading the OpenStreetMap data different points of interest in the city of Prague. This will help us with the analysis of the city's rental prices - perhaps the proximity to certain points of interest can explain the differences in prices?\n",
    "\n",
    "OpenStreetMaps is a great source of data for this kind of analysis. It is a collaborative project that creates a free editable map of the world. The data is available under the Open Database License (ODbL), which allows us to use it for our analysis.\n",
    "\n",
    "For querying the map data, we can use the Overpass API. It is a read-only API that uses a custom query language (\"pattern matching\"-like) to retrieve data from the OpenStreetMap database. The API is free to use, but it has some limitations on the number of requests you can make in a certain time period.\n",
    "\n",
    "For interfacing our Python code in this notebook with the Overpass API, we can use the `overpy` library. It is a Python wrapper for the Overpass API, which makes it easy to query the OpenStreetMap data from Python code.\n",
    "\n",
    "Let's start by fetching the data about schools in Prague."
   ]
  },
  {
   "cell_type": "markdown",
   "metadata": {},
   "source": [
    "### Schools\n",
    "\n",
    "The importance of a school in the vicinity of a rental property is quite obvious. Families with children will be more interested in properties that are close to schools. This is especially true for families with younger children, who might not be able to travel long distances to school.\n",
    "\n",
    "For fetching such institutions, we can query the Overpass API for nodes, ways, and relations with the `amenity=school` tag ([OSM definition here](https://wiki.openstreetmap.org/wiki/Tag:amenity%3Dschool)).\n"
   ]
  },
  {
   "cell_type": "code",
   "execution_count": 118,
   "metadata": {},
   "outputs": [],
   "source": [
    "import overpy\n",
    "\n",
    "## Approximate bounding box of Prague\n",
    "bounding_box = (49.96, 14.28, 50.17, 14.68)\n",
    "\n",
    "api = overpy.Overpass()\n",
    "\n",
    "result = api.query(f\"\"\"\n",
    "[timeout:25];(\n",
    "  nwr[\"amenity\"=\"school\"]{bounding_box};\n",
    ");\n",
    "out body;\n",
    ">;\n",
    "out skel qt;\n",
    "\"\"\")"
   ]
  },
  {
   "cell_type": "markdown",
   "metadata": {},
   "source": [
    "As a result of the collaborative nature of OpenStreetMap, the data might not be complete or up-to-date. On top of this, different schools are tagged differently in the database - while some of them are only `node`s, others are marked as `way`s (a polygon around the perimeter of the school) or `relation`s (a group of nodes and ways that form a school). We will have to handle these different types of data in our analysis.\n",
    "\n",
    "Since schools are (relatively) small in size, we can approximate all of the schools as points (nodes) in our analysis. This will simplify our analysis and make it easier to compare the schools with other points of interest.\n",
    "\n",
    "| ![Schools in Prague](./img/osm/overpass_school_types.png) |\n",
    "|:--:|\n",
    "| *Different types of schools in the OpenStreetMap data - blue outlines are `way`s, red outlines are `relation`s, and the points are `node`s.* |"
   ]
  },
  {
   "cell_type": "code",
   "execution_count": 109,
   "metadata": {},
   "outputs": [
    {
     "name": "stdout",
     "output_type": "stream",
     "text": [
      "processed ways\n",
      "processed relations\n",
      "processed nodes\n"
     ]
    }
   ],
   "source": [
    "import pandas as pd\n",
    "\n",
    "def get_way_center(way: overpy.Way):\n",
    "    nodes = way.get_nodes(resolve_missing=True)\n",
    "    lats = [node.lat for node in nodes]\n",
    "    lons = [node.lon for node in nodes]\n",
    "    return float(sum(lats) / len(lats)), float(sum(lons) / len(lons))\n",
    "\n",
    "def process_ways(ways):\n",
    "    l = []\n",
    "\n",
    "    for way in ways:\n",
    "        if way.tags == {} or way.tags == None:\n",
    "            continue\n",
    "\n",
    "        [lat, lon] = get_way_center(way)\n",
    "\n",
    "        l.append({\n",
    "            \"name\": way.tags.get(\"name\") or way.id,\n",
    "            \"lat\": lat,\n",
    "            \"lon\": lon,\n",
    "        })\n",
    "\n",
    "    return pd.DataFrame(l)\n",
    "\n",
    "def process_relations(relations):\n",
    "    l = []\n",
    "\n",
    "    for rel in relations:\n",
    "        if rel.tags.get(\"name\"):\n",
    "            continue\n",
    "        for m in rel.members:\n",
    "            if m.role == \"outer\":\n",
    "                [lat, lon] = get_way_center(m.resolve(resolve_missing=True))\n",
    "\n",
    "                l.append({\n",
    "                    \"name\": rel.tags.get(\"name\") or rel.id,\n",
    "                    \"lat\": lat,\n",
    "                    \"lon\": lon,\n",
    "                })\n",
    "                break\n",
    "\n",
    "    return pd.DataFrame(l)\n",
    "\n",
    "def process_nodes(nodes):\n",
    "    l = []\n",
    "\n",
    "    for node in nodes:\n",
    "        if node.tags.get(\"name\") == None:\n",
    "            continue\n",
    "\n",
    "        l.append({\n",
    "            \"name\": node.tags.get(\"name\"),\n",
    "            \"lat\": node.lat,\n",
    "            \"lon\": node.lon,\n",
    "        })\n",
    "\n",
    "    return pd.DataFrame(l)\n",
    "\n",
    "ways_df = process_ways(result.ways)\n",
    "print(\"processed ways\")\n",
    "relations_df = process_relations(result.relations)\n",
    "print(\"processed relations\")\n",
    "nodes_df = process_nodes(result.nodes)\n",
    "print(\"processed nodes\")\n",
    "\n",
    "schools_df = pd.concat([ways_df, relations_df, nodes_df], ignore_index=True)\n"
   ]
  },
  {
   "cell_type": "code",
   "execution_count": 110,
   "metadata": {},
   "outputs": [],
   "source": [
    "schools_df.to_csv(\"./data/osm/osm_schools.csv\", index=False)"
   ]
  },
  {
   "cell_type": "markdown",
   "metadata": {},
   "source": [
    "### Parks\n",
    "\n",
    "Just like with schools, we would assume that parks are a desirable feature in the vicinity of a rental property. They provide a green space for recreation and relaxation, and they can also improve the air quality in the area.\n",
    "\n",
    "For fetching parks, we can query the Overpass API for nodes, ways, and relations with the `leisure=park` tag ([OSM definition here](https://wiki.openstreetmap.org/wiki/Tag:leisure%3Dpark)). We add a few more tags to our query to make sure we get all the parks in the city of Prague - some prominent parks (like Obora Hvězda or Prokopské údolí) are tagged with different tags (`nature_reserve` or `forest`).\n",
    "\n",
    "|![Parks in Prague](./img/osm/overpass_parks.png)|\n",
    "|:--:|\n",
    "| Result for the park query from Overpass API. |\n",
    "\n",
    "Unfortunately, unlike schools, parks are usually quite large in size - and approximating them with just one point might cause us to lose some information. \n",
    "\n",
    "Because of this, we retain all the nodes representing parks in our analysis. This will allow us to calculate the distance from each rental property to the nearest park, which can be a useful feature in our analysis."
   ]
  },
  {
   "cell_type": "code",
   "execution_count": 111,
   "metadata": {},
   "outputs": [],
   "source": [
    "result = api.query(f\"\"\"\n",
    "[timeout:25];\n",
    "(\n",
    "  relation[\"leisure\"=\"park\"]{bounding_box};\n",
    "  relation[\"leisure\"=\"nature_reserve\"]{bounding_box};\n",
    "  relation[\"landuse\"=\"forest\"]{bounding_box};\n",
    ");\n",
    "out body;\n",
    ">;\n",
    "out skel qt;\n",
    "\"\"\")"
   ]
  },
  {
   "cell_type": "code",
   "execution_count": 112,
   "metadata": {},
   "outputs": [
    {
     "name": "stdout",
     "output_type": "stream",
     "text": [
      "relations: 50 / 490\n",
      "relations: 100 / 490\n",
      "relations: 150 / 490\n",
      "relations: 200 / 490\n",
      "relations: 250 / 490\n",
      "relations: 300 / 490\n",
      "relations: 350 / 490\n",
      "relations: 400 / 490\n",
      "relations: 450 / 490\n"
     ]
    }
   ],
   "source": [
    "parks = []\n",
    "nodes = []\n",
    "\n",
    "counter = 0\n",
    "for rel in result.relations:\n",
    "    counter += 1\n",
    "    if(counter % 50 == 0):\n",
    "        print(\"relations:\", counter, \"/\", len(result.relations))\n",
    "    parks.append({\n",
    "        \"name\": rel.tags.get(\"name\") or rel.id,\n",
    "        \"id\": rel.id,\n",
    "    })\n",
    "\n",
    "    for m in rel.members:\n",
    "        if m.role == \"outer\":\n",
    "            for n in m.resolve().get_nodes():\n",
    "                nodes.append({\n",
    "                    \"lat\": n.lat,\n",
    "                    \"lon\": n.lon,\n",
    "                    \"in\": rel.id,\n",
    "                })\n",
    "\n"
   ]
  },
  {
   "cell_type": "code",
   "execution_count": 117,
   "metadata": {},
   "outputs": [],
   "source": [
    "parks_df = pd.DataFrame(parks)\n",
    "nodes_df = pd.DataFrame(nodes)\n",
    "\n",
    "parks_df.to_csv(\"./data/osm/osm_parks.csv\", index=False)\n",
    "nodes_df.to_csv(\"./data/osm/osm_parks_nodes.csv\", index=False)"
   ]
  },
  {
   "cell_type": "markdown",
   "metadata": {},
   "source": [
    "### Euronet ATMs\n",
    "\n",
    "| ![Euronet ATM](./img/osm/euronet_atm.png) |\n",
    "|:--:|\n",
    "| An Euronet ATM product photo. |\n",
    "\n",
    "Euronet ATMs are a common sight in the city of Prague. They are usually located in high-traffic areas, like shopping malls or tourist attractions - and they are known for their predatory exchange rates and high service fees. While I don't expect their presence itself to have a significant impact on the rental prices in the locality, it could serve as a marker for high-traffic areas in the city - which could be correlated with higher rental prices.\n",
    "\n",
    "Inspired by [Peter Fabor's article](https://blog.apify.com/google-maps-data-tourism/) on mass tourism analysis in Mallorca, Spain, we can query the OpenStreetMap data for Euronet ATMs in Prague. We can use the `operator=Euronet` tag to find these ATMs in the city.\n",
    "\n",
    "| ![Euronet ATMs in Mallorca, Peter Fabor](./img/osm/euronet_fabor_mallorca.png) |\n",
    "|:--:|\n",
    "| A heatmap of Euronet ATMs in Mallorca, Spain, by Peter Fabor. See the [original tweet here](https://www.linkedin.com/posts/fabor_how-to-identify-ugly-mass-tourism-places-activity-7131587606370230272-O5DS/) |"
   ]
  },
  {
   "cell_type": "markdown",
   "metadata": {},
   "source": [
    "Retrieving this data is fairly easy, as all of the ATMs are marked as `node`s in the OpenStreetMap database. We can skip the `way` and `relation` processing - at least for this analysis."
   ]
  },
  {
   "cell_type": "code",
   "execution_count": 119,
   "metadata": {},
   "outputs": [],
   "source": [
    "result = api.query(f\"\"\"\n",
    "[timeout:25];\n",
    "(\n",
    "  node[\"amenity\"=\"atm\"][\"brand\"=\"Euronet\"]{bounding_box};\n",
    "  node[\"amenity\"=\"atm\"][\"operator\"=\"Euronet\"]{bounding_box};\n",
    ");\n",
    "out body;\n",
    ">;\n",
    "out skel qt;\n",
    "\"\"\")"
   ]
  },
  {
   "cell_type": "code",
   "execution_count": 124,
   "metadata": {},
   "outputs": [],
   "source": [
    "import pandas as pd\n",
    "\n",
    "atms = pd.DataFrame([{ \"lat\": node.lat, \"lon\": node.lon } for node in result.nodes])"
   ]
  },
  {
   "cell_type": "code",
   "execution_count": 126,
   "metadata": {},
   "outputs": [],
   "source": [
    "atms.to_csv(\"./data/osm/osm_atms.csv\", index=False)"
   ]
  },
  {
   "cell_type": "markdown",
   "metadata": {},
   "source": [
    "| ![Euronet ATMs in Prague](./img/osm/overpass_atms.png) |\n",
    "|:--:|\n",
    "| Result for the Euronet ATM query from Overpass API. Note the high density of ATMs in the city center, along the Nerudova street leading up to the Prague Castle, or the Prague Zoo entrance. |"
   ]
  },
  {
   "cell_type": "markdown",
   "metadata": {},
   "source": [
    "### Highways\n",
    "\n",
    "As the last feature retrieved from the OpenStreetMap data, we can query the highways in the city of Prague. Highways are a common feature in the city, and they can be a good indicator of the traffic density in the area.\n",
    "High traffic density can be a nuisance for residents, as it can cause noise pollution and air pollution. This can be a factor in the rental prices in the city - especially in Prague, where there is a magistrála (a highway) running straight through the city center.\n",
    "\n",
    "For fetching the highways, we can query the Overpass API for ways with the `highway` tag ([OSM definition here](https://wiki.openstreetmap.org/wiki/Key:highway)). We can filter out the highways by type - we pick the three largest types of highways in the city of Prague: `motorway`, `trunk`, and `primary`."
   ]
  },
  {
   "cell_type": "code",
   "execution_count": 127,
   "metadata": {},
   "outputs": [],
   "source": [
    "result = api.query(f\"\"\"\n",
    "    [out:json][timeout:25];\n",
    "    (\n",
    "        way[\"highway\"=\"trunk\"]{bounding_box};\n",
    "        way[\"highway\"=\"motorway\"]{bounding_box};\n",
    "        way[\"highway\"=\"primary\"]{bounding_box};\n",
    "    );\n",
    "    out body;\n",
    "    >;\n",
    "    out skel qt;\n",
    "\"\"\");"
   ]
  },
  {
   "cell_type": "code",
   "execution_count": 134,
   "metadata": {},
   "outputs": [],
   "source": [
    "nodes = []\n",
    "\n",
    "for way in result.ways:\n",
    "    for node in way.get_nodes(resolve_missing=True):\n",
    "        nodes.append({\n",
    "            \"lat\": node.lat,\n",
    "            \"lon\": node.lon,\n",
    "            \"in\": way.id,\n",
    "            \"type\": way.tags.get(\"highway\"),\n",
    "        })"
   ]
  },
  {
   "cell_type": "code",
   "execution_count": 135,
   "metadata": {},
   "outputs": [],
   "source": [
    "pd.DataFrame(nodes).to_csv(\"./data/osm/osm_highways_nodes.csv\", index=False)"
   ]
  },
  {
   "cell_type": "markdown",
   "metadata": {},
   "source": [
    "| ![Highways in Prague](./img/osm/overpass_roads.png) |\n",
    "|:--:|\n",
    "| Result for the highway query from Overpass API. Note the magistrála running through the city center, and the D1 highway leading out of the city. |"
   ]
  },
  {
   "cell_type": "markdown",
   "metadata": {},
   "source": [
    "This concludes the data fetching from the OpenStreetMap database. Now there is nothing left but to use these to create new features for our analysis.\n",
    "\n",
    "---\n",
    "\n",
    "[< Back to the main notebook](./index.md)"
   ]
  }
 ],
 "metadata": {
  "kernelspec": {
   "display_name": "Python 3",
   "language": "python",
   "name": "python3"
  },
  "language_info": {
   "codemirror_mode": {
    "name": "ipython",
    "version": 3
   },
   "file_extension": ".py",
   "mimetype": "text/x-python",
   "name": "python",
   "nbconvert_exporter": "python",
   "pygments_lexer": "ipython3",
   "version": "3.10.12"
  }
 },
 "nbformat": 4,
 "nbformat_minor": 2
}
